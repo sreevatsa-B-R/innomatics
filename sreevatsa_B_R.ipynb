{
 "cells": [
  {
   "cell_type": "code",
   "execution_count": 4,
   "metadata": {},
   "outputs": [],
   "source": [
    "import numpy as np\n",
    "import pandas as pd\n",
    "moviedf = pd.read_csv('movies.csv')\n",
    "linkdf = pd.read_csv('links.csv')\n",
    "ratingdf = pd.read_csv('ratings.csv')\n",
    "tagdf = pd.read_csv('tags.csv')"
   ]
  },
  {
   "cell_type": "code",
   "execution_count": 5,
   "metadata": {},
   "outputs": [
    {
     "data": {
      "text/plain": [
       "(9742, 3)"
      ]
     },
     "execution_count": 5,
     "metadata": {},
     "output_type": "execute_result"
    }
   ],
   "source": [
    "moviedf.shape"
   ]
  },
  {
   "cell_type": "code",
   "execution_count": 6,
   "metadata": {},
   "outputs": [
    {
     "data": {
      "text/plain": [
       "(100836, 4)"
      ]
     },
     "execution_count": 6,
     "metadata": {},
     "output_type": "execute_result"
    }
   ],
   "source": [
    "ratingdf.shape"
   ]
  },
  {
   "cell_type": "code",
   "execution_count": 7,
   "metadata": {},
   "outputs": [
    {
     "data": {
      "text/plain": [
       "610"
      ]
     },
     "execution_count": 7,
     "metadata": {},
     "output_type": "execute_result"
    }
   ],
   "source": [
    "len(pd.unique(ratingdf['userId']))"
   ]
  },
  {
   "cell_type": "code",
   "execution_count": 10,
   "metadata": {},
   "outputs": [
    {
     "name": "stdout",
     "output_type": "stream",
     "text": [
      "movieId\n",
      "356       329\n",
      "318       317\n",
      "296       307\n",
      "593       279\n",
      "2571      278\n",
      "         ... \n",
      "86279       1\n",
      "86922       1\n",
      "5962        1\n",
      "87660       1\n",
      "163981      1\n",
      "Name: count, Length: 9724, dtype: int64\n"
     ]
    }
   ],
   "source": [
    "print(ratingdf[\"movieId\"].value_counts())"
   ]
  },
  {
   "cell_type": "code",
   "execution_count": 12,
   "metadata": {},
   "outputs": [
    {
     "data": {
      "text/plain": [
       "array(['Forrest Gump (1994)'], dtype=object)"
      ]
     },
     "execution_count": 12,
     "metadata": {},
     "output_type": "execute_result"
    }
   ],
   "source": [
    "moviedf[moviedf[\"movieId\"]==356][\"title\"].unique()"
   ]
  },
  {
   "cell_type": "code",
   "execution_count": 14,
   "metadata": {},
   "outputs": [
    {
     "name": "stdout",
     "output_type": "stream",
     "text": [
      "tags=815           martial arts\n",
      "816                 sci-fi\n",
      "1646    alternate universe\n",
      "2794            philosophy\n",
      "2795      post apocalyptic\n",
      "Name: tag, dtype: object\n"
     ]
    }
   ],
   "source": [
    "movie_id = moviedf.loc[moviedf['title'] == 'Matrix, The (1999)', 'movieId'].iloc[0]\n",
    "tags = tagdf.loc[tagdf['movieId'] == movie_id, 'tag']\n",
    "print(f'{tags=}')"
   ]
  },
  {
   "cell_type": "code",
   "execution_count": 15,
   "metadata": {},
   "outputs": [
    {
     "name": "stdout",
     "output_type": "stream",
     "text": [
      "avg_rating=3.970982142857143\n"
     ]
    }
   ],
   "source": [
    "movie_id = moviedf.loc[moviedf['title'] == 'Terminator 2: Judgment Day (1991)', 'movieId'].iloc[0]\n",
    "avg_rating = ratingdf.loc[ratingdf['movieId'] == movie_id, 'rating'].mean()\n",
    "print(f'{avg_rating=}')"
   ]
  },
  {
   "cell_type": "code",
   "execution_count": 16,
   "metadata": {},
   "outputs": [
    {
     "data": {
      "text/plain": [
       "<Axes: >"
      ]
     },
     "execution_count": 16,
     "metadata": {},
     "output_type": "execute_result"
    },
    {
     "data": {
      "image/png": "[encoded data removed]",
      "text/plain": [
       "<Figure size 640x480 with 1 Axes>"
      ]
     },
     "metadata": {},
     "output_type": "display_data"
    }
   ],
   "source": [
    "fratings = ratingdf[ratingdf['movieId'] == moviedf[moviedf['title'] == 'Fight Club (1999)']['movieId'].iloc[0]]['rating']\n",
    "fratings.hist()"
   ]
  },
  {
   "cell_type": "code",
   "execution_count": 17,
   "metadata": {},
   "outputs": [
    {
     "name": "stdout",
     "output_type": "stream",
     "text": [
      "rating_stats=         count      mean\n",
      "movieId                 \n",
      "1          215  3.920930\n",
      "2          110  3.431818\n",
      "3           52  3.259615\n",
      "4            7  2.357143\n",
      "5           49  3.071429\n",
      "...        ...       ...\n",
      "193581       1  4.000000\n",
      "193583       1  3.500000\n",
      "193585       1  3.500000\n",
      "193587       1  3.500000\n",
      "193609       1  4.000000\n",
      "\n",
      "[9724 rows x 2 columns]\n",
      "movie_stats=      movieId                                      title  \\\n",
      "0           1                           Toy Story (1995)   \n",
      "1           2                             Jumanji (1995)   \n",
      "2           3                    Grumpier Old Men (1995)   \n",
      "3           4                   Waiting to Exhale (1995)   \n",
      "4           5         Father of the Bride Part II (1995)   \n",
      "...       ...                                        ...   \n",
      "9737   193581  Black Butler: Book of the Atlantic (2017)   \n",
      "9738   193583               No Game No Life: Zero (2017)   \n",
      "9739   193585                               Flint (2017)   \n",
      "9740   193587        Bungo Stray Dogs: Dead Apple (2018)   \n",
      "9741   193609        Andrew Dice Clay: Dice Rules (1991)   \n",
      "\n",
      "                                           genres  rating_count      mean  \n",
      "0     Adventure|Animation|Children|Comedy|Fantasy           215  3.920930  \n",
      "1                      Adventure|Children|Fantasy           110  3.431818  \n",
      "2                                  Comedy|Romance            52  3.259615  \n",
      "3                            Comedy|Drama|Romance             7  2.357143  \n",
      "4                                          Comedy            49  3.071429  \n",
      "...                                           ...           ...       ...  \n",
      "9737              Action|Animation|Comedy|Fantasy             1  4.000000  \n",
      "9738                     Animation|Comedy|Fantasy             1  3.500000  \n",
      "9739                                        Drama             1  3.500000  \n",
      "9740                             Action|Animation             1  3.500000  \n",
      "9741                                       Comedy             1  4.000000  \n",
      "\n",
      "[9724 rows x 5 columns]\n",
      "filtered_movies=      movieId                             title  \\\n",
      "0           1                  Toy Story (1995)   \n",
      "1           2                    Jumanji (1995)   \n",
      "2           3           Grumpier Old Men (1995)   \n",
      "5           6                       Heat (1995)   \n",
      "6           7                    Sabrina (1995)   \n",
      "...       ...                               ...   \n",
      "8305   106782   Wolf of Wall Street, The (2013)   \n",
      "8372   109374  Grand Budapest Hotel, The (2014)   \n",
      "8376   109487               Interstellar (2014)   \n",
      "8475   112852    Guardians of the Galaxy (2014)   \n",
      "8691   122904                   Deadpool (2016)   \n",
      "\n",
      "                                           genres  rating_count      mean  \n",
      "0     Adventure|Animation|Children|Comedy|Fantasy           215  3.920930  \n",
      "1                      Adventure|Children|Fantasy           110  3.431818  \n",
      "2                                  Comedy|Romance            52  3.259615  \n",
      "5                           Action|Crime|Thriller           102  3.946078  \n",
      "6                                  Comedy|Romance            54  3.185185  \n",
      "...                                           ...           ...       ...  \n",
      "8305                           Comedy|Crime|Drama            54  3.916667  \n",
      "8372                                 Comedy|Drama            52  3.778846  \n",
      "8376                                  Sci-Fi|IMAX            73  3.993151  \n",
      "8475                      Action|Adventure|Sci-Fi            59  4.050847  \n",
      "8691               Action|Adventure|Comedy|Sci-Fi            54  3.833333  \n",
      "\n",
      "[436 rows x 5 columns]\n"
     ]
    }
   ],
   "source": [
    "rating_stats = ratingdf.groupby('movieId')['rating'].agg(['count', 'mean'])\n",
    "print(f'{rating_stats=}')\n",
    "rating_stats = rating_stats.rename(columns={'count': 'rating_count'})\n",
    "movie_stats = moviedf.join(rating_stats, on='movieId', how='inner')\n",
    "print(f'{movie_stats=}')\n",
    "filtered_movies = movie_stats[movie_stats['rating_count'] > 50]\n",
    "print(f'{filtered_movies=}')"
   ]
  },
  {
   "cell_type": "code",
   "execution_count": 18,
   "metadata": {},
   "outputs": [
    {
     "name": "stdout",
     "output_type": "stream",
     "text": [
      "popular_movie='Shawshank Redemption, The (1994)'\n"
     ]
    }
   ],
   "source": [
    "popular_movie = movie_stats[movie_stats['rating_count'] > 50].sort_values('mean', ascending=False).iloc[0]['title']\n",
    "print(f'{popular_movie=}')"
   ]
  },
  {
   "cell_type": "code",
   "execution_count": 19,
   "metadata": {},
   "outputs": [
    {
     "name": "stdout",
     "output_type": "stream",
     "text": [
      "top_5_movies=['Forrest Gump (1994)', 'Shawshank Redemption, The (1994)', 'Pulp Fiction (1994)', 'Silence of the Lambs, The (1991)', 'Matrix, The (1999)']\n",
      "third_popular='Jurassic Park (1993)'\n"
     ]
    }
   ],
   "source": [
    "top_5_movies = movie_stats.sort_values('rating_count', ascending=False).head(5)['title'].tolist()\n",
    "print(f'{top_5_movies=}')\n",
    "scifi_movies = movie_stats[movie_stats['genres'].str.contains('Sci-Fi')]\n",
    "third_popular = scifi_movies.sort_values('rating_count', ascending=False).iloc[2]['title']\n",
    "print(f'{third_popular=}')"
   ]
  },
  {
   "cell_type": "code",
   "execution_count": 20,
   "metadata": {},
   "outputs": [
    {
     "name": "stdout",
     "output_type": "stream",
     "text": [
      "highest_rated_movie_id=53\n"
     ]
    }
   ],
   "source": [
    "highest_rated_movie_id = movie_stats.loc[movie_stats['mean'].idxmax(), 'movieId']\n",
    "print(f'{highest_rated_movie_id=}')\n"
   ]
  },
  {
   "cell_type": "code",
   "execution_count": 21,
   "metadata": {},
   "outputs": [
    {
     "name": "stdout",
     "output_type": "stream",
     "text": [
      "highest_rated_scifi_movie_id=3687\n"
     ]
    }
   ],
   "source": [
    "highest_rated_scifi_movie_id = scifi_movies.loc[scifi_movies['mean'].idxmax(), 'movieId']\n",
    "print(f'{highest_rated_scifi_movie_id=}')"
   ]
  }
 ],
 "metadata": {
  "kernelspec": {
   "display_name": "Python 3",
   "language": "python",
   "name": "python3"
  },
  "language_info": {
   "codemirror_mode": {
    "name": "ipython",
    "version": 3
   },
   "file_extension": ".py",
   "mimetype": "text/x-python",
   "name": "python",
   "nbconvert_exporter": "python",
   "pygments_lexer": "ipython3",
   "version": "3.11.5"
  }
 },
 "nbformat": 4,
 "nbformat_minor": 2
}
